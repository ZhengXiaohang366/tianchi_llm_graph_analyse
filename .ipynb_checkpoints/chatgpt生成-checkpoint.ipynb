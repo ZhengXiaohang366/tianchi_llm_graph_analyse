{
 "cells": [
  {
   "cell_type": "code",
   "execution_count": 1,
   "id": "98748509",
   "metadata": {},
   "outputs": [],
   "source": [
    "import os\n",
    "import json\n",
    "import requests\n",
    "import ujson as json\n",
    "from openai import OpenAI\n",
    "\n",
    "\n",
    "os.environ[\"OPENAI_API_KEY\"] = \"e0a7d609-7a9d-401e-9cd7-53a3819a21f3\"\n",
    "os.environ[\"OPENAI_API_BASE\"] = \"http://gpt-proxy.jd.com/gateway/azure\"\n",
    "\n",
    "\n"
   ]
  },
  {
   "cell_type": "code",
   "execution_count": 2,
   "id": "4156a6e6",
   "metadata": {},
   "outputs": [],
   "source": [
    "def open_ai_sdk(content):\n",
    "    client = OpenAI(\n",
    "        api_key=os.environ[\"OPENAI_API_KEY\"],\n",
    "        base_url=os.environ[\"OPENAI_API_BASE\"],\n",
    "    )\n",
    "    # 此处传入headers中的Authorization 与在client传api_key是一样的\n",
    "    headers = {\n",
    "        \"Content-Type\": \"application/json\",\n",
    "        \"Authorization\": f\"Bearer {os.environ['OPENAI_API_KEY']}\"\n",
    "    }\n",
    "\n",
    "    # 本示例为请求聊天完成接口，如果需要请求别的接口请修改\n",
    "    response = client.chat.completions.create(\n",
    "        model=\"gpt-4-1106-preview\",\n",
    "        # model=\"gpt-3.5-turbo\",\n",
    "        messages=[{\"role\": \"system\", \"content\": \"assistant\"}, \n",
    "                  {\"content\": content, \"role\": \"user\"}],\n",
    "        temperature=0.5,\n",
    "        top_p=1,\n",
    "        frequency_penalty=0,\n",
    "        presence_penalty=0,\n",
    "        stream=False,\n",
    "        # 入参时erp改为不必填 但如果输入了erp会校验erp是否真实存在，输入erp与计费相关（不输入则使用申请人erp结算），如果输入erp不对调用会报错哦\n",
    "        # extra_body={\"erp\": \"python\"}\n",
    "        # 请求头\n",
    "        # extra_headers=headers\n",
    "\n",
    "    )\n",
    "\n",
    "    return response"
   ]
  },
  {
   "cell_type": "code",
   "execution_count": 3,
   "id": "144e22a5",
   "metadata": {},
   "outputs": [
    {
     "name": "stdout",
     "output_type": "stream",
     "text": [
      "在公路长途运输场景中，运力调度是指对车辆资源进行合理安排和调配，以满足货物运输的需求。进行运力统筹调度的原因主要包括以下几点：\n",
      "\n",
      "1. **成本效益**：合理的调度可以减少空驶和等待时间，提高车辆的利用率，从而降低运输成本。例如，通过回程载货或合理规划路线，可以减少无货车辆的空驶距离，节约燃油费用和车辆折旧。\n",
      "\n",
      "2. **提高效率**：通过优化车辆的配载和路线规划，可以缩短运输时间，加快货物周转速度，提高整体运输效率。\n",
      "\n",
      "3. **满足客户需求**：不同客户可能有不同的运输需求（如交货时间、特殊货物处理等），运力统筹调度能够更好地满足这些个性化需求，提高客户满意度。\n",
      "\n",
      "4. **应对不确定性**：运输过程中可能会遇到各种不确定因素，如交通拥堵、天气变化、车辆故障等。良好的运力调度能够快速响应这些突发事件，减少对运输计划的影响。\n",
      "\n",
      "5. **环境友好**：通过减少空驶和优化路线，可以减少碳排放和对环境的影响，符合绿色物流的发展趋势。\n",
      "\n",
      "6. **资源优化**：运力调度可以使得有限的车辆资源得到最优化的配置，避免资源浪费。\n",
      "\n",
      "7. **提升竞争力**：提高运输效率和降低成本可以增强物流企业的市场竞争力，吸引更多的客户。\n",
      "\n",
      "8. **合规性**：合理的运力调度可以确保运输活动符合相关的法律法规要求，如驾驶员工作时间规定、重量限制等。\n",
      "\n",
      "因此，进行运力统筹调度是物流企业实现经济效益、服务质量和可持续发展的关键。通过运用先进的信息技术和优化算法，可以更加精细地进行运力调度，实现上述目标。\n"
     ]
    }
   ],
   "source": [
    "content = f\"\"\"\n",
    "在公路长途运输场景，运力调度的核心问题就是如何合理地分配和利用可用的车辆，以实现最大程度降低成本和提高运输效率。请说明一下为什么要进行运力统筹调度。\n",
    "\"\"\"\n",
    "response = open_ai_sdk(content)\n",
    "print(response.choices[0].message.content)"
   ]
  },
  {
   "cell_type": "code",
   "execution_count": null,
   "id": "9b8dfee6",
   "metadata": {},
   "outputs": [],
   "source": [
    "content = f\"\"\"\n",
    "在公路长途运输场景，运力调度的核心问题就是如何合理地分配和利用可用的车辆，以实现最大程度降低成本和提高运输效率。请说明一下为什么要进行运力统筹调度。\n",
    "\"\"\"\n",
    "response = open_ai_sdk(content)\n",
    "print(response.choices[0].message.content)"
   ]
  }
 ],
 "metadata": {
  "kernelspec": {
   "display_name": "Python 3 (ipykernel)",
   "language": "python",
   "name": "python3"
  },
  "language_info": {
   "codemirror_mode": {
    "name": "ipython",
    "version": 3
   },
   "file_extension": ".py",
   "mimetype": "text/x-python",
   "name": "python",
   "nbconvert_exporter": "python",
   "pygments_lexer": "ipython3",
   "version": "3.11.5"
  }
 },
 "nbformat": 4,
 "nbformat_minor": 5
}
