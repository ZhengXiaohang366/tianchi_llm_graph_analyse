{
 "cells": [
  {
   "cell_type": "code",
   "execution_count": 1,
   "id": "98748509",
   "metadata": {},
   "outputs": [],
   "source": [
    "import os\n",
    "import json\n",
    "import requests\n",
    "import ujson as json\n",
    "from openai import OpenAI\n",
    "\n",
    "\n",
    "os.environ[\"OPENAI_API_KEY\"] = \"e0a7d609-7a9d-401e-9cd7-53a3819a21f3\"\n",
    "os.environ[\"OPENAI_API_BASE\"] = \"http://gpt-proxy.jd.com/gateway/azure\"\n"
   ]
  },
  {
   "cell_type": "code",
   "execution_count": 2,
   "id": "4156a6e6",
   "metadata": {},
   "outputs": [],
   "source": [
    "def open_ai_sdk(content):\n",
    "    client = OpenAI(\n",
    "        api_key=os.environ[\"OPENAI_API_KEY\"],\n",
    "        base_url=os.environ[\"OPENAI_API_BASE\"],\n",
    "    )\n",
    "    # 此处传入headers中的Authorization 与在client传api_key是一样的\n",
    "    headers = {\n",
    "        \"Content-Type\": \"application/json\",\n",
    "        \"Authorization\": f\"Bearer {os.environ['OPENAI_API_KEY']}\"\n",
    "    }\n",
    "\n",
    "    # 本示例为请求聊天完成接口，如果需要请求别的接口请修改\n",
    "    response = client.chat.completions.create(\n",
    "        model=\"gpt-4-1106-preview\",\n",
    "        # model=\"gpt-3.5-turbo\",\n",
    "        messages=[{\"role\": \"system\", \"content\": \"assistant\"}, \n",
    "                  {\"content\": content, \"role\": \"user\"}],\n",
    "        temperature=0.5,\n",
    "        top_p=1,\n",
    "        frequency_penalty=0,\n",
    "        presence_penalty=0,\n",
    "        stream=False,\n",
    "        # 入参时erp改为不必填 但如果输入了erp会校验erp是否真实存在，输入erp与计费相关（不输入则使用申请人erp结算），如果输入erp不对调用会报错哦\n",
    "        # extra_body={\"erp\": \"python\"}\n",
    "        # 请求头\n",
    "        # extra_headers=headers\n",
    "\n",
    "    )\n",
    "\n",
    "    return response"
   ]
  },
  {
   "cell_type": "code",
   "execution_count": 5,
   "id": "144e22a5",
   "metadata": {},
   "outputs": [
    {
     "name": "stdout",
     "output_type": "stream",
     "text": [
      "在物流场景中，货量波次预测是一个关键的任务，它帮助物流公司合理安排资源，提高效率，降低成本。货量波次预测本质上是一个时序预测问题，即基于历史数据来预测未来一段时间内的货物流量。以下是几种常用的时序算法，它们可以应用于物流场景中的货量波次预测：\n",
      "\n",
      "1. 经典统计方法：\n",
      "   - 自回归移动平均模型（ARMA）：结合了自回归（AR）和移动平均（MA）模型，用于分析时间序列的自相关性。\n",
      "   - 自回归积分滑动平均模型（ARIMA）：是ARMA模型的扩展，适用于非平稳时间序列的预测。\n",
      "   - 季节性自回归积分滑动平均模型（SARIMA）：针对具有季节性波动的时间序列，增加了季节性差分和季节性自回归项。\n",
      "\n",
      "2. 机器学习方法：\n",
      "   - 随机森林：一种集成学习方法，可以处理时间序列特征，通过多个决策树的预测结果进行平均或多数投票来提高预测准确性。\n",
      "   - 支持向量机（SVM）：可以用于回归（SVR），通过映射到高维空间来找到最佳的线性分割超平面，处理时序数据时通常需要结合特征工程。\n",
      "\n",
      "3. 深度学习方法：\n",
      "   - 循环神经网络（RNN）：特别适合处理序列数据，可以捕捉时间序列中的长期依赖关系。\n",
      "   - 长短期记忆网络（LSTM）：一种特殊的RNN，设计用来解决RNN长期依赖问题，非常适合进行复杂时序预测任务。\n",
      "   - 门控循环单元（GRU）：与LSTM类似，但结构更简单，计算效率更高。\n",
      "   - 卷积神经网络（CNN）：虽然通常用于图像处理，但也可以用于处理时间序列数据，特别是在提取局部时序特征方面效果不错。\n",
      "\n",
      "4. 混合模型：\n",
      "   - 将传统统计方法与机器学习或深度学习方法结合，例如使用ARIMA模型处理时间序列的趋势和季节性，然后用深度学习模型捕捉更复杂的非线性关系。\n",
      "\n",
      "5. 注意力机制和Transformer模型：\n",
      "   - 注意力机制可以使模型集中于时间序列中最相关的部分，而Transformer模型则完全基于注意力机制，可以有效处理长序列数据。\n",
      "\n",
      "在实际应用中，选择哪种算法通常取决于数据的性质、可用的计算资源以及预测的精度要求。在物流货量波次预测中，可能需要结合多种方法，并通过特征工程、模型调优和集成学习等技术来提高预测的准确性和鲁棒性。此外，实时数据流、事件、节假日效应等因素也需要考虑在内，以便更准确地预测货量波次。\n"
     ]
    }
   ],
   "source": [
    "content = f\"\"\"\n",
    "生成用statsmodel的Theta模型进行时序预测的代码，需要包括数据生成和\n",
    "\"\"\"\n",
    "response = open_ai_sdk(content)\n",
    "print(response.choices[0].message.content)"
   ]
  },
  {
   "cell_type": "code",
   "execution_count": null,
   "id": "9b8dfee6",
   "metadata": {},
   "outputs": [],
   "source": []
  }
 ],
 "metadata": {
  "kernelspec": {
   "display_name": "Python 3 (ipykernel)",
   "language": "python",
   "name": "python3"
  },
  "language_info": {
   "codemirror_mode": {
    "name": "ipython",
    "version": 3
   },
   "file_extension": ".py",
   "mimetype": "text/x-python",
   "name": "python",
   "nbconvert_exporter": "python",
   "pygments_lexer": "ipython3",
   "version": "3.11.5"
  }
 },
 "nbformat": 4,
 "nbformat_minor": 5
}
