{
 "cells": [
  {
   "cell_type": "code",
   "execution_count": 24,
   "id": "ed980919-2b67-446b-b03a-87da90d1d618",
   "metadata": {},
   "outputs": [],
   "source": [
    "import jsonlines\n",
    "from tqdm import tqdm\n",
    "from copy import copy\n",
    "import os\n",
    "import json\n",
    "import requests\n",
    "import ujson as json\n",
    "from openai import OpenAI\n",
    "import re\n",
    "\n",
    "os.environ[\"OPENAI_API_KEY\"] = \"e0a7d609-7a9d-401e-9cd7-53a3819a21f3\"\n",
    "os.environ[\"OPENAI_API_BASE\"] = \"http://gpt-proxy.jd.com/gateway/azure\""
   ]
  },
  {
   "cell_type": "code",
   "execution_count": 25,
   "id": "b6bf81d2-e33b-463b-a850-dde260564422",
   "metadata": {},
   "outputs": [],
   "source": [
    "def open_ai_sdk(content):\n",
    "    client = OpenAI(\n",
    "        api_key=os.environ[\"OPENAI_API_KEY\"],\n",
    "        base_url=os.environ[\"OPENAI_API_BASE\"],\n",
    "    )\n",
    "    headers = {\n",
    "        \"Content-Type\": \"application/json\",\n",
    "        \"Authorization\": f\"Bearer {os.environ['OPENAI_API_KEY']}\"\n",
    "    }\n",
    "\n",
    "    response = client.chat.completions.create(\n",
    "        model=\"gpt-4o\",\n",
    "        messages=[{\"role\": \"system\", \"content\": \"assistant\"}, \n",
    "                  {\"content\": content, \"role\": \"user\"}],\n",
    "        temperature=0.5,\n",
    "        top_p=1,\n",
    "        frequency_penalty=0,\n",
    "        presence_penalty=0,\n",
    "        stream=False,\n",
    "        # extra_body={\"erp\": \"python\"}\n",
    "        # extra_headers=headers\n",
    "    )\n",
    "\n",
    "    return response"
   ]
  },
  {
   "cell_type": "code",
   "execution_count": 26,
   "id": "e9af8f6c-ea30-4a85-b9ce-370b82f69edb",
   "metadata": {},
   "outputs": [],
   "source": [
    "data = []\n",
    "# 打开 JSON Lines 文件\n",
    "with jsonlines.open('data/Preliminary_TestSet/Preliminary_TestSet.json') as reader:\n",
    "    for obj in reader:\n",
    "        # 处理 obj\n",
    "        data.append(obj)\n",
    "data = data[0]"
   ]
  },
  {
   "cell_type": "code",
   "execution_count": null,
   "id": "1a7ffd67-5755-4c5f-9f32-386c89d49d76",
   "metadata": {},
   "outputs": [
    {
     "name": "stderr",
     "output_type": "stream",
     "text": [
      "Processing:  10%|██▉                         | 52/500 [15:38<2:06:00, 16.88s/it]"
     ]
    }
   ],
   "source": [
    "\n",
    "# 假设 data 是你要处理的数据列表\n",
    "\n",
    "# 正则表达式模式\n",
    "pattern = r\"answer:\\s*\\w+\"\n",
    "\n",
    "no_matches_question = []\n",
    "\n",
    "\n",
    "for obj in tqdm(data[:500], desc=\"Processing\"):\n",
    "    tmp_transfer_data = copy(obj)\n",
    "    content = f\"\"\"\n",
    "下面是的一道图分析相关的题目，可能是一道判断题或计算题。请你生成可以解出这道题目的python代码。下面是问题：{obj['question']}\n",
    "\"\"\"\n",
    "    python_code_response = open_ai_sdk(content)\n",
    "    python_code=python_code_response.choices[0].message.content\n",
    "    content = f\"\"\"\n",
    "下面是的一道图分析相关的题目以及对应能解题的python代码，请执行代码后作答，如果你觉得这是一道判断题且结果为真，请返回TRUE，反之则返回FALSE。如果你觉得这是计算题，请返回带有两位小数的数值答案。\n",
    "务必记住：1.你的回答不要有答案之外的任何字符！只需要最终答案！2.题目一定是判断题或计算题，不会有其他类型。\n",
    "问题如下：{obj['question']}\n",
    "python_代码：{python_code}\n",
    "\"\"\"\n",
    "    response = open_ai_sdk(content)\n",
    "    \n",
    "    result_string=response.choices[0].message.content\n",
    "    obj['answer'] = result_string\n",
    "    # result_string_list = result_string.split('\\n')\n",
    "    # # 使用正则表达式提取 'output: x' 中的 x\n",
    "    # match = re.search(r'output:\\s*(\\S+)', result_string_list[-1])\n",
    "    # if match:\n",
    "    #     obj['answer'] = match.group(1)\n",
    "    # else:\n",
    "    #     obj['answer'] = ''\n",
    "    #     no_matches_question.append(obj['id'])\n",
    "            \n",
    "\n",
    "\n",
    "    "
   ]
  },
  {
   "cell_type": "code",
   "execution_count": null,
   "id": "128e0c19-e8d8-43ed-8e77-a9ed93d80e20",
   "metadata": {},
   "outputs": [],
   "source": [
    "# # 将'id'替换为'ID'\n",
    "# for item in data:\n",
    "#     item['ID'] = item.pop('id')\n",
    "#     item['question'] = item.pop('question')\n",
    "#     item['answer'] = item.pop('answer')"
   ]
  },
  {
   "cell_type": "code",
   "execution_count": null,
   "id": "25283d4e-996a-4db3-bcc9-1aee36d7e3dc",
   "metadata": {},
   "outputs": [],
   "source": [
    "import json\n",
    "\n",
    "\n",
    "\n",
    "# 将列表保存为JSON格式的文件，每个元素占用一行\n",
    "with open('data/res/大模型图图_result1.json', 'w', encoding='utf-8') as file:\n",
    "    file.write('[\\n')\n",
    "    for i, item in enumerate(data):\n",
    "        json_line = json.dumps(item, ensure_ascii=False)\n",
    "        if i < len(data) - 1:\n",
    "            file.write(f'{json_line},\\n')\n",
    "        else:\n",
    "            file.write(f'{json_line}\\n')\n",
    "    file.write(']')"
   ]
  },
  {
   "cell_type": "code",
   "execution_count": null,
   "id": "7d97e05d-8d4a-4caf-8f58-06469f2c5be7",
   "metadata": {},
   "outputs": [],
   "source": []
  }
 ],
 "metadata": {
  "kernelspec": {
   "display_name": "Python 3 (ipykernel)",
   "language": "python",
   "name": "python3"
  },
  "language_info": {
   "codemirror_mode": {
    "name": "ipython",
    "version": 3
   },
   "file_extension": ".py",
   "mimetype": "text/x-python",
   "name": "python",
   "nbconvert_exporter": "python",
   "pygments_lexer": "ipython3",
   "version": "3.10.13"
  }
 },
 "nbformat": 4,
 "nbformat_minor": 5
}
