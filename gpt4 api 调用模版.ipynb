{
 "cells": [
  {
   "cell_type": "code",
   "execution_count": 2,
   "id": "98748509",
   "metadata": {},
   "outputs": [],
   "source": [
    "import os\n",
    "import json\n",
    "import requests\n",
    "import ujson as json\n",
    "from openai import OpenAI\n",
    "\n",
    "\n",
    "os.environ[\"OPENAI_API_KEY\"] = \"e0a7d609-7a9d-401e-9cd7-53a3819a21f3\"\n",
    "os.environ[\"OPENAI_API_BASE\"] = \"http://gpt-proxy.jd.com/gateway/azure\"\n",
    "\n",
    "\n"
   ]
  },
  {
   "cell_type": "code",
   "execution_count": 3,
   "id": "4156a6e6",
   "metadata": {},
   "outputs": [],
   "source": [
    "def open_ai_sdk(content):\n",
    "    client = OpenAI(\n",
    "        api_key=os.environ[\"OPENAI_API_KEY\"],\n",
    "        base_url=os.environ[\"OPENAI_API_BASE\"],\n",
    "    )\n",
    "    # 此处传入headers中的Authorization 与在client传api_key是一样的\n",
    "    headers = {\n",
    "        \"Content-Type\": \"application/json\",\n",
    "        \"Authorization\": f\"Bearer {os.environ['OPENAI_API_KEY']}\"\n",
    "    }\n",
    "\n",
    "    # 本示例为请求聊天完成接口，如果需要请求别的接口请修改\n",
    "    response = client.chat.completions.create(\n",
    "        model=\"gpt-4-1106-preview\",\n",
    "        # model=\"gpt-3.5-turbo\",\n",
    "        messages=[{\"role\": \"system\", \"content\": \"assistant\"}, \n",
    "                  {\"content\": content, \"role\": \"user\"}],\n",
    "        temperature=0.5,\n",
    "        top_p=1,\n",
    "        frequency_penalty=0,\n",
    "        presence_penalty=0,\n",
    "        stream=False,\n",
    "        # 入参时erp改为不必填 但如果输入了erp会校验erp是否真实存在，输入erp与计费相关（不输入则使用申请人erp结算），如果输入erp不对调用会报错哦\n",
    "        # extra_body={\"erp\": \"python\"}\n",
    "        # 请求头\n",
    "        # extra_headers=headers\n",
    "\n",
    "    )\n",
    "\n",
    "    return response"
   ]
  },
  {
   "cell_type": "code",
   "execution_count": 4,
   "id": "144e22a5",
   "metadata": {},
   "outputs": [
    {
     "name": "stdout",
     "output_type": "stream",
     "text": [
      "The real interest rate in China is not directly represented by a single rate, such as the Loan Prime Rate (LPR) or the yield on Chinese government bonds. Instead, the real interest rate is typically calculated by adjusting the nominal interest rate for the effects of inflation. To find the real interest rate, you would subtract the inflation rate from the nominal interest rate.\n",
      "\n",
      "The Loan Prime Rate (LPR) is the benchmark lending rate at which commercial banks lend to their most creditworthy customers. It is set by the People's Bank of China (PBOC) and can be considered analogous to the prime rates used in other countries. The LPR is an important reference for various types of loans, including mortgages and corporate loans.\n",
      "\n",
      "On the other hand, the yield on Chinese government bonds represents the return investors can expect for lending money to the Chinese government over a certain period. The yield fluctuates based on market conditions, demand, and the economic outlook.\n",
      "\n",
      "Neither the LPR nor the yield on government bonds is the real interest rate. Instead, they are types of nominal rates. To get the real interest rate, you would need to consider the current rate of inflation in China. For instance, if the LPR is at 3.85% and the annual inflation rate is 2%, the real interest rate would be approximately 1.85% (3.85% - 2%).\n",
      "\n",
      "It's important to note that real interest rates can be negative if the nominal rate is lower than the inflation rate. This means that the purchasing power of the money is decreasing over the loan period, even though the nominal amount of interest being paid is positive.\n",
      "\n",
      "For the most current and accurate information on real interest rates in China, you would need to refer to the latest financial data and economic reports.\n"
     ]
    }
   ],
   "source": [
    "content = f\"\"\"\n",
    "what is the real interest rate in china? LPR or the bond of china goverment?\n",
    "\"\"\"\n",
    "response = open_ai_sdk(content)\n",
    "print(response.choices[0].message.content)"
   ]
  },
  {
   "cell_type": "code",
   "execution_count": 5,
   "id": "69f8d228",
   "metadata": {},
   "outputs": [
    {
     "name": "stdout",
     "output_type": "stream",
     "text": [
      "东南亚地区包括泰国、印度尼西亚、马来西亚、新加坡、菲律宾、越南、缅甸、柬埔寨、老挝、文莱等国家。这个区域因其多样性、战略位置、快速增长的经济和人口而备受关注。\n",
      "\n",
      "以下是对东南亚经济前景的分析，考虑到各种因素：\n",
      "\n",
      "1. 经济增长：东南亚国家在过去几十年中表现出了强劲的经济增长。尽管全球经济放缓和贸易紧张影响了该地区的一些国家，但预计未来几年，东南亚的经济将继续增长。特别是越南和菲律宾等国家展现了较高的增长潜力。\n",
      "\n",
      "2. 人口红利：东南亚地区有大量年轻人口，这为劳动力市场带来了潜在的增长动力。这种人口结构有助于提高生产力，并可能吸引更多的外国直接投资。\n",
      "\n",
      "3. 外国直接投资（FDI）：东南亚国家因其较低的生产成本、提升的基础设施以及对外国投资者的开放政策而吸引了大量FDI。中国和美国等国家的公司正在将生产基地转移到该地区，尤其是在制造业和服务业领域。\n",
      "\n",
      "4. 一带一路倡议：中国的一带一路倡议对东南亚国家的基础设施建设和经济发展起到了积极作用。这增强了区域连接性，并可能进一步促进贸易和投资。\n",
      "\n",
      "5. 数字经济：东南亚的数字经济正在快速增长，电子商务、金融科技和数字服务等领域的创新为经济增长提供了新的动力。\n",
      "\n",
      "6. 政治稳定性与政策环境：政治稳定性和有利于商业的政策环境对经济增长至关重要。虽然东南亚地区的政治环境各不相同，但大多数国家正在努力改善其商业环境，以吸引更多的投资和促进经济发展。\n",
      "\n",
      "7. 贸易协定：东南亚国家参与了多项区域和国际贸易协定，如区域全面经济伙伴关系（RCEP）和东盟自由贸易区（AFTA），这些协定有助于降低贸易壁垒并增加成员国之间的贸易。\n",
      "\n",
      "8. 挑战与风险：尽管前景乐观，但东南亚地区仍面临一些挑战，包括贫困、不平等、腐败、自然灾害的影响以及全球经济波动对出口依赖国家的影响。\n",
      "\n",
      "总结来说，东南亚经济前景总体上是积极的，但仍需注意区域内外的各种风险和挑战。政策制定者需要继续推动改革，提高竞争力，确保可持续和包容性增长。\n"
     ]
    }
   ],
   "source": [
    "content = f\"\"\"\n",
    "东南亚经济前景分析\n",
    "\"\"\"\n",
    "response = open_ai_sdk(content)\n",
    "print(response.choices[0].message.content)"
   ]
  },
  {
   "cell_type": "code",
   "execution_count": 7,
   "id": "54ad1457",
   "metadata": {},
   "outputs": [
    {
     "name": "stdout",
     "output_type": "stream",
     "text": [
      "经济、政治和战争之间的关系是复杂且相互交织的。以下是它们之间的一些基本联系：\n",
      "\n",
      "1. 经济资源和战争：\n",
      "   - 战争通常需要大量的经济资源来支持。这包括资金、物资、技术和人力。一个国家的经济实力往往决定了它在战争中的持久力和效能。\n",
      "   - 经济动机有时也是战争的原因之一，例如争夺自然资源、贸易路线、市场和投资领域。\n",
      "\n",
      "2. 政治决策和战争：\n",
      "   - 政治领导人的决策对于战争的爆发和结束至关重要。政治目标、意识形态、安全威胁的评估、国内外政治压力等都可能导致战争的开始或结束。\n",
      "   - 国际政治环境，如同盟、敌对关系和国际法律，也对战争的可能性和性质产生影响。\n",
      "\n",
      "3. 经济对政治的影响：\n",
      "   - 经济状况对政治稳定有重要影响。强劲的经济可以为政府提供更多的资源来维护内部秩序和对外政策，而经济危机可能导致政治不稳定，甚至引发冲突。\n",
      "   - 经济利益和集团往往通过政治途径来保护和增强自己的利益，这可能影响国家的政策和行为，包括对外战争政策。\n",
      "\n",
      "4. 战争对经济和政治的影响：\n",
      "   - 战争往往对参与国的经济造成破坏，消耗资源，破坏基础设施，扰乱正常的经济活动，导致人力资源的损失。\n",
      "   - 战争可能导致政治格局的变化，无论是在国内还是国际层面。战败国可能面临政府更迭、政策重大转变和国际地位的下降。战胜国也可能面临权力结构的变化和新的政治挑战。\n",
      "\n",
      "5. 经济全球化与战争：\n",
      "   - 经济全球化使各国的经济相互依赖，这可能降低战争的可能性，因为冲突可能会给所有相关国家带来经济损失。\n",
      "   - 然而，全球化也可能导致资源和市场的竞争加剧，从而在某些情况下增加了冲突的风险。\n",
      "\n",
      "这些关系并非一成不变，随着历史、技术、国际秩序和社会结构的变化而变化。理解这些复杂的相互作用需要跨学科的分析，包括经济学、政治学、国际关系和历史学等领域的知识。\n"
     ]
    }
   ],
   "source": [
    "content = f\"\"\"\n",
    "经济、政治和战争的关系是什么？\n",
    "\"\"\"\n",
    "response = open_ai_sdk(content)\n",
    "print(response.choices[0].message.content)"
   ]
  },
  {
   "cell_type": "code",
   "execution_count": 9,
   "id": "b4f50cd2",
   "metadata": {},
   "outputs": [
    {
     "name": "stdout",
     "output_type": "stream",
     "text": [
      "印度实行的是议会民主制，是世界上人口最多的民主国家。但是，一个国家是否富强并不仅仅取决于其政治体制。印度之所以在经济和社会发展方面面临挑战，可以归因于多种复杂的因素：\n",
      "\n",
      "1. 历史遗留问题：印度在1947年从英国殖民统治下获得独立，那时国家面临着分裂、贫困和教育普及率低等问题。这些历史遗留问题对国家的发展产生了长期影响。\n",
      "\n",
      "2. 人口规模：印度是世界上人口第二多的国家，庞大的人口规模使得资源分配、教育、卫生和就业创造等方面的挑战更加严峻。\n",
      "\n",
      "3. 社会结构：印度社会结构复杂，存在种姓制度、宗教和文化多样性等，这些因素有时会导致社会紧张和资源分配不均。\n",
      "\n",
      "4. 经济结构：印度的经济结构转型过程中存在诸多挑战，从一个以农业为主的经济体向服务业和工业化经济体转变，需要巨大的投资和政策支持。\n",
      "\n",
      "5. 政治挑战：尽管印度是一个民主国家，但政治体制中也存在腐败、官僚主义和效率低下等问题，这些都影响了国家的决策和执行力。\n",
      "\n",
      "6. 基础设施和教育：印度在基础设施和教育方面的投资相对不足，这限制了其长期发展潜力和人力资本的形成。\n",
      "\n",
      "7. 地区不平衡：印度各地区之间的发展不平衡，一些地区比其他地区更加繁荣和发达，这导致了资源和机会的不均衡分配。\n",
      "\n",
      "8. 全球经济环境：印度的发展也受到全球经济环境的影响，包括贸易政策、国际投资流动和经济合作等。\n",
      "\n",
      "虽然印度面临许多挑战，但它在过去几十年中也取得了显著的经济增长和社会发展。印度政府正在采取各种措施来解决上述问题，以实现更加包容性和持续的发展。\n"
     ]
    }
   ],
   "source": [
    "content = f\"\"\"\n",
    "印度实行民主，为什么没有富强？\n",
    "\"\"\"\n",
    "response = open_ai_sdk(content)\n",
    "print(response.choices[0].message.content)"
   ]
  },
  {
   "cell_type": "code",
   "execution_count": null,
   "id": "1ed5abd6",
   "metadata": {},
   "outputs": [],
   "source": []
  }
 ],
 "metadata": {
  "kernelspec": {
   "display_name": "Python 3 (ipykernel)",
   "language": "python",
   "name": "python3"
  },
  "language_info": {
   "codemirror_mode": {
    "name": "ipython",
    "version": 3
   },
   "file_extension": ".py",
   "mimetype": "text/x-python",
   "name": "python",
   "nbconvert_exporter": "python",
   "pygments_lexer": "ipython3",
   "version": "3.10.13"
  }
 },
 "nbformat": 4,
 "nbformat_minor": 5
}
